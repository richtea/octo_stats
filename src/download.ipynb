{
 "cells": [
  {
   "cell_type": "code",
   "execution_count": null,
   "metadata": {},
   "outputs": [],
   "source": [
    "import datetime\n",
    "from typing import Any\n",
    "\n",
    "import dotenv\n",
    "import matplotlib.pyplot as plt\n",
    "import numpy as np\n",
    "import pandas as pd\n",
    "import pendulum\n",
    "from octopus_stats import (\n",
    "    ConsumptionRecord,\n",
    "    OctoAPIConfig,\n",
    "    OctoAPIReader,\n",
    ")\n",
    "from zappi_stats.zappi_api_reader import (\n",
    "    MyenergiApiConfig,\n",
    "    ZappiApiReader,\n",
    "    ZappiUsageByMinuteRecordRaw,\n",
    ")\n"
   ]
  },
  {
   "cell_type": "code",
   "execution_count": null,
   "metadata": {},
   "outputs": [],
   "source": [
    "def get_consumption_data(cr: ConsumptionRecord) -> dict[str, Any]:\n",
    "    cd: dict[str, Any] = {}\n",
    "    cd[\"start_utc\"] = cr.interval_start.astimezone(datetime.UTC)\n",
    "    cd[\"end_utc\"] = cr.interval_end.astimezone(datetime.UTC)\n",
    "    cd[\"octo_consumed_kwh\"] = cr.consumption\n",
    "    cd[\"start_local\"] = cr.interval_start.replace(tzinfo=None)\n",
    "    cd[\"start_utc_offset\"] = cr.interval_start.utcoffset()\n",
    "    cd[\"end_local\"] = cr.interval_end.replace(tzinfo=None)\n",
    "    cd[\"end_utc_offset\"] = cr.interval_end.utcoffset()\n",
    "\n",
    "    return cd\n",
    "\n",
    "\n",
    "def joules_to_kwh(joules: int) -> float:\n",
    "    return round(joules / 3_600_000, 5)\n",
    "\n",
    "\n",
    "def get_charging_data(cr: ZappiUsageByMinuteRecordRaw) -> dict[str, Any]:\n",
    "    cd: dict[str, Any] = {}\n",
    "    cd[\"start_utc\"] = cr.interval_start\n",
    "    cd[\"imported_kwh\"] = joules_to_kwh(cr.imp)\n",
    "    cd[\"exported_kwh\"] = joules_to_kwh(cr.exp)\n",
    "    cd[\"ev_charged_kwh\"] = joules_to_kwh(sum([cr.h1b, cr.h1d, cr.h2b, cr.h2d, cr.h3b, cr.h3d]))\n",
    "    cd[\"volts\"] = cr.v1 / 10\n",
    "    cd[\"frequency\"] = cr.frq / 100\n",
    "\n",
    "    return cd"
   ]
  },
  {
   "cell_type": "code",
   "execution_count": null,
   "metadata": {},
   "outputs": [],
   "source": [
    "my_tz = \"Europe/London\"\n",
    "PERIOD_START = pendulum.datetime(2023, 7, 13, 0, 0, tz=my_tz)\n",
    "PERIOD_END=pendulum.datetime(2023, 12, 30, 0, 0, tz=my_tz)"
   ]
  },
  {
   "cell_type": "code",
   "execution_count": null,
   "metadata": {},
   "outputs": [],
   "source": [
    "dotenv.load_dotenv()\n",
    "config = OctoAPIConfig.from_env()\n",
    "octo_api_reader = OctoAPIReader(config)\n",
    "\n",
    "consumption = octo_api_reader.get_consumption(\n",
    "    account_number=config.account_number,\n",
    "    start=PERIOD_START,\n",
    "    end=PERIOD_END,\n",
    ")\n",
    "\n",
    "df_consumption = pd.DataFrame([get_consumption_data(cr) for cr in consumption])\n",
    "\n",
    "df_consumption[\"duration\"] = df_consumption[\"end_utc\"] - df_consumption[\"start_utc\"]\n",
    "df_consumption[\"date_local\"] = df_consumption[\"start_local\"].dt.normalize()\n",
    "df_consumption[\"dayofyear_local\"] = df_consumption[\"start_local\"].dt.dayofyear\n",
    "df_consumption[\"dayofweek_local\"] = df_consumption[\"start_local\"].dt.dayofweek\n",
    "df_consumption[\"hourofday_local\"] = df_consumption[\"start_local\"].dt.hour\n",
    "\n",
    "df_consumption"
   ]
  },
  {
   "cell_type": "code",
   "execution_count": null,
   "metadata": {},
   "outputs": [],
   "source": [
    "df_consumption.dtypes"
   ]
  },
  {
   "cell_type": "code",
   "execution_count": null,
   "metadata": {},
   "outputs": [],
   "source": [
    "dotenv.load_dotenv()\n",
    "config = MyenergiApiConfig.from_env()\n",
    "api = ZappiApiReader(config)\n",
    "api.connect()\n",
    "x = [\n",
    "    get_charging_data(x)\n",
    "    for x in api.get_data(\n",
    "        start=PERIOD_START,\n",
    "        end=PERIOD_END,\n",
    "    )\n",
    "]\n",
    "df = pd.DataFrame(x)\n",
    "df"
   ]
  },
  {
   "cell_type": "code",
   "execution_count": null,
   "metadata": {},
   "outputs": [],
   "source": [
    "df_charger_consumption = (\n",
    "    df.groupby(\n",
    "        pd.cut(\n",
    "            x=df[\"start_utc\"],\n",
    "            bins=df_consumption[\"start_utc\"],\n",
    "            labels=df_consumption.iloc[:-1][\"start_utc\"],\n",
    "            include_lowest=True,\n",
    "            right=False,\n",
    "        ),\n",
    "        observed=False,\n",
    "    ).agg({\"ev_charged_kwh\": \"sum\", \"imported_kwh\": \"sum\", \"exported_kwh\": \"sum\"}).reset_index()\n",
    ")\n",
    "df_charger_consumption[\"start_utc\"] = pd.to_datetime(df_charger_consumption[\"start_utc\"])\n",
    "# Select and display just the rows with a non-zero value\n",
    "df_charger_consumption.loc[df_charger_consumption[\"ev_charged_kwh\"] > 0]"
   ]
  },
  {
   "cell_type": "code",
   "execution_count": null,
   "metadata": {},
   "outputs": [],
   "source": [
    "df_half_hour_consumption = df_consumption.merge(df_charger_consumption, on=\"start_utc\")\n",
    "df_half_hour_consumption[\"domestic_consumed_kwh\"] = (\n",
    "    df_half_hour_consumption[\"imported_kwh\"]\n",
    "    - df_half_hour_consumption[\"ev_charged_kwh\"]\n",
    ")\n",
    "df_half_hour_consumption"
   ]
  },
  {
   "cell_type": "code",
   "execution_count": null,
   "metadata": {},
   "outputs": [],
   "source": [
    "df_consumption_by_day = df_half_hour_consumption.groupby(\n",
    "    df_half_hour_consumption[\"date_local\"], as_index=False\n",
    ").agg(\n",
    "    {\n",
    "        \"octo_consumed_kwh\": \"sum\",\n",
    "        \"ev_charged_kwh\": \"sum\",\n",
    "        \"imported_kwh\": \"sum\",\n",
    "        \"domestic_consumed_kwh\": \"sum\",\n",
    "    }\n",
    ")"
   ]
  },
  {
   "cell_type": "code",
   "execution_count": null,
   "metadata": {},
   "outputs": [],
   "source": [
    "df_consumption_by_day[\"ratio\"] = df_consumption_by_day[\"imported_kwh\"] / df_consumption_by_day[\"octo_consumed_kwh\"]\n",
    "df_consumption_by_day"
   ]
  },
  {
   "cell_type": "code",
   "execution_count": null,
   "metadata": {},
   "outputs": [],
   "source": [
    "# Plot histogram: domestic + ev (stacked) next to consumed - the bars should be the same height\n",
    "fig, ax = plt.subplots(figsize=(12, 4))\n",
    "width = 0.3\n",
    "days = np.arange(len(df_consumption_by_day[\"date_local\"]))\n",
    "ax.bar(days, df_consumption_by_day[\"domestic_consumed_kwh\"], width=width)\n",
    "ax.bar(\n",
    "    days,\n",
    "    df_consumption_by_day[\"ev_charged_kwh\"],\n",
    "    bottom=df_consumption_by_day[\"domestic_consumed_kwh\"],\n",
    "    width=width,\n",
    ")\n",
    "ax.bar(days + width, df_consumption_by_day[\"imported_kwh\"], width=width)\n",
    "_ = ax.set_xticks(\n",
    "    days,\n",
    "    df_consumption_by_day[\"date_local\"],\n",
    "    rotation=40,\n",
    "    ha=\"right\",\n",
    "    rotation_mode=\"anchor\",\n",
    ")"
   ]
  },
  {
   "cell_type": "code",
   "execution_count": null,
   "metadata": {},
   "outputs": [],
   "source": [
    "df_consumption_by_time_of_day = df_half_hour_consumption.groupby(\n",
    "    df_half_hour_consumption[\"hourofday_local\"], as_index=False\n",
    ").agg(\n",
    "    {\n",
    "        \"octo_consumed_kwh\": \"mean\",\n",
    "        \"ev_charged_kwh\": \"mean\",\n",
    "        \"imported_kwh\": \"mean\",\n",
    "        \"domestic_consumed_kwh\": \"mean\",\n",
    "    }\n",
    ")\n",
    "\n",
    "df_consumption_by_time_of_day"
   ]
  },
  {
   "cell_type": "code",
   "execution_count": null,
   "metadata": {},
   "outputs": [],
   "source": [
    "x = df_consumption_by_time_of_day[\"hourofday_local\"]\n",
    "plt.plot(x, df_consumption_by_time_of_day[\"ev_charged_kwh\"], label=\"EV\")\n",
    "plt.plot(x, df_consumption_by_time_of_day[\"domestic_consumed_kwh\"], label=\"domestic\")\n",
    "plt.xlabel(\"Hour\")\n",
    "plt.ylabel(\"Consumption\")\n",
    "plt.legend()\n",
    "plt.title(\"EV and Domestic Usage\")\n",
    "plt.show()"
   ]
  }
 ],
 "metadata": {
  "kernelspec": {
   "display_name": ".venv",
   "language": "python",
   "name": "python3"
  },
  "language_info": {
   "codemirror_mode": {
    "name": "ipython",
    "version": 3
   },
   "file_extension": ".py",
   "mimetype": "text/x-python",
   "name": "python",
   "nbconvert_exporter": "python",
   "pygments_lexer": "ipython3",
   "version": "3.12.1"
  }
 },
 "nbformat": 4,
 "nbformat_minor": 2
}
